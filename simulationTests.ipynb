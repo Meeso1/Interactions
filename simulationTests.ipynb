{
 "cells": [
  {
   "cell_type": "markdown",
   "metadata": {
    "code_folding": [],
    "heading_collapsed": true
   },
   "source": [
    "### Init"
   ]
  },
  {
   "cell_type": "code",
   "execution_count": 123,
   "metadata": {
    "hidden": true,
    "init_cell": true
   },
   "outputs": [],
   "source": [
    "from utility import *\n",
    "from BFIClasses import *\n",
    "from Simulation import *\n",
    "from math_primitives.NumericStepFunctions import *\n",
    "from dataclasses import dataclass\n",
    "\n",
    "import numpy as np\n",
    "import matplotlib.pyplot as plt\n",
    "from time import process_time, sleep"
   ]
  },
  {
   "cell_type": "code",
   "execution_count": 77,
   "metadata": {
    "code_folding": [
     0,
     22,
     26
    ],
    "hidden": true,
    "init_cell": true
   },
   "outputs": [],
   "source": [
    "class ExecutionTimer:\n",
    "    \n",
    "    global_timer = None\n",
    "    \n",
    "    def __init__(self, silent=False):\n",
    "        self.start_time = None\n",
    "        self.end_time = None\n",
    "        self.elapsed = None\n",
    "        self.silent = silent\n",
    "        \n",
    "    def tic(self):\n",
    "        self.start_time = process_time()\n",
    "        \n",
    "    def toc(self):\n",
    "        self.end_time = process_time()\n",
    "        self.elapsed = self.end_time - self.start_time\n",
    "        \n",
    "        if not self.silent:\n",
    "            print(f\"Time elapsed: {self.elapsed}\")\n",
    "            \n",
    "        return self.elapsed\n",
    "            \n",
    "def tic():\n",
    "    ExecutionTimer.global_timer = ExecutionTimer()\n",
    "    ExecutionTimer.global_timer.tic()\n",
    "    \n",
    "def toc():\n",
    "    if ExecutionTimer.global_timer is None:\n",
    "        raise AttributeError(\"No global timer is currently running. Call toc() first.\")\n",
    "    res = ExecutionTimer.global_timer.toc()\n",
    "    ExecutionTimer.global_timer = None\n",
    "    return res"
   ]
  },
  {
   "cell_type": "code",
   "execution_count": 78,
   "metadata": {
    "code_folding": [
     1,
     22,
     44
    ],
    "hidden": true,
    "init_cell": true
   },
   "outputs": [],
   "source": [
    "# test 1: ring of 4 balls with gravity\n",
    "def test1(r=100, g=1e7, sps=100, method=lambda: Euler()):\n",
    "    v = np.sqrt((1+2*np.sqrt(2))*(g/r))/2\n",
    "\n",
    "    sim = Simulation(\n",
    "        start_balls=[\n",
    "            make_ball(r * Vector([0, -1]), v * Vector([1, 0]),  start_dv=v**2/r * Vector([0, 1])),\n",
    "            make_ball(r * Vector([0, 1]),  v * Vector([-1, 0]), start_dv=v**2/r * Vector([0, -1])),\n",
    "            make_ball(r * Vector([1, 0]),  v * Vector([0, 1]),  start_dv=v**2/r * Vector([-1, 0])),\n",
    "            make_ball(r * Vector([-1, 0]), v * Vector([0, -1]), start_dv=v**2/r * Vector([1, 0]))\n",
    "        ],\n",
    "        fields={},\n",
    "        interactions=[Interaction(\"gravity\", (\"Ball\", \"Ball\"),\n",
    "                                  formula=lambda target, source:\n",
    "                                  g/(Ball.distance(target[0], source)**2) * target[0].direction(source),\n",
    "                                  attribute=\"velocity\"\n",
    "                                  )],\n",
    "        total_time=5, steps_per_second=sps, field_size=(1000, 600))\n",
    "    \n",
    "    return sim\n",
    "\n",
    "# test 2: 2 balls on spring\n",
    "def test2(l=100, k=1, sps=100, method=lambda: Euler()):\n",
    "\n",
    "    start_center = Vector([-300, 0])\n",
    "    lin_v = Vector([50, 0])\n",
    "    spin_v = Vector([80, 0])\n",
    "\n",
    "    sim = Simulation(\n",
    "        start_balls=[\n",
    "            make_ball(l/2 * Vector([0, -1]) + start_center, lin_v + spin_v, step_func=method),\n",
    "            make_ball(l/2 * Vector([0, 1]) + start_center, lin_v - spin_v, step_func=method)\n",
    "        ],\n",
    "        fields={},\n",
    "        interactions=[Interaction(\"spring\", (\"Ball\", \"Ball\"),\n",
    "                                  formula=lambda target, source:\n",
    "                                  k * Ball.distance(target[0], source) * target[0].direction(source),\n",
    "                                  attribute=\"velocity\"\n",
    "                                  )],\n",
    "        total_time=10, steps_per_second=sps, field_size=(1000, 600))\n",
    "    \n",
    "    return sim\n",
    "\n",
    "# test 3: sinusoidal ball (no field)\n",
    "def test3(v=50, r=100, k=1, sps=100, method=lambda: Euler()):\n",
    "\n",
    "    sim = Simulation(\n",
    "        start_balls=[\n",
    "            make_ball(r * Vector([0, -1]) + Vector([-300, 0]), v * Vector([1, 0]), step_func=method)\n",
    "        ],\n",
    "        fields={},\n",
    "        interactions=[Interaction(\"sinusoidal\", (\"Ball\", \"Self\"),\n",
    "                                  formula=lambda target, _:\n",
    "                                  k * target[0].position.current.y * Vector([0, -1]),\n",
    "                                  attribute=\"velocity\"\n",
    "                                  )],\n",
    "        total_time=10, steps_per_second=sps, field_size=(1000, 600))\n",
    "    \n",
    "    return sim\n",
    "\n",
    "# test 4: sinusoidal ball (with field)\n",
    "def test4(v=50, r=100, k=1, sps=100, fres=20, method=lambda: Euler()):\n",
    "\n",
    "    fsize = (1000, 1000)\n",
    "    \n",
    "    sim = Simulation(\n",
    "        start_balls=[\n",
    "            make_ball(r * Vector([0, 1]) + Vector([-300, 0]), v * Vector([1, 0]), step_func=method)\n",
    "        ],\n",
    "        fields={\"sinusoidal\": make_field(\"sinusoidal\", size=fsize, res=(fres, fres),\n",
    "                                        func=lambda x, y: x, const=True)},\n",
    "        interactions=[Interaction(\"sinusoidal\", (\"Ball\", \"sinusoidal\"),\n",
    "                                  formula=lambda target, field:\n",
    "                                  k * field.value(target[0].position.current) * Vector([0, -1]),\n",
    "                                  attribute=\"velocity\"\n",
    "                                  )],\n",
    "        total_time=10, steps_per_second=sps, field_size=fsize, border_effect=\"ignore\")\n",
    "    \n",
    "    return sim"
   ]
  },
  {
   "cell_type": "markdown",
   "metadata": {
    "heading_collapsed": true
   },
   "source": [
    "### TEST 2"
   ]
  },
  {
   "cell_type": "code",
   "execution_count": 10,
   "metadata": {
    "hidden": true
   },
   "outputs": [],
   "source": [
    "sim = test2(k=((80/50)**2)/2, sps=1000, method=lambda: Euler())\n",
    "sim.simulate()"
   ]
  },
  {
   "cell_type": "code",
   "execution_count": 11,
   "metadata": {
    "hidden": true
   },
   "outputs": [],
   "source": [
    "ball1 = sim.balls[0]\n",
    "ball2 = sim.balls[1]\n",
    "\n",
    "t = np.linspace(0, 10, 1000)\n",
    "pos1_x = [ball1.position.val(t_v).x for t_v in t]\n",
    "pos1_y = [ball1.position.val(t_v).y for t_v in t]\n",
    "pos2_x = [ball2.position.val(t_v).x for t_v in t]\n",
    "pos2_y = [ball2.position.val(t_v).y for t_v in t]"
   ]
  },
  {
   "cell_type": "code",
   "execution_count": 12,
   "metadata": {
    "hidden": true
   },
   "outputs": [
    {
     "data": {
      "image/png": "[encoded data removed]",
      "text/plain": [
       "<Figure size 432x288 with 1 Axes>"
      ]
     },
     "metadata": {
      "needs_background": "light"
     },
     "output_type": "display_data"
    }
   ],
   "source": [
    "plt.plot(pos1_x, pos1_y, 'r-', pos2_x, pos2_y, 'b-')\n",
    "plt.show()"
   ]
  },
  {
   "cell_type": "code",
   "execution_count": 13,
   "metadata": {
    "hidden": true
   },
   "outputs": [
    {
     "data": {
      "image/png": "[encoded data removed]",
      "text/plain": [
       "<Figure size 432x288 with 1 Axes>"
      ]
     },
     "metadata": {
      "needs_background": "light"
     },
     "output_type": "display_data"
    },
    {
     "name": "stdout",
     "output_type": "stream",
     "text": [
      "max(center_mass.y)=0.0, min(center_mass.y)=0.0\n"
     ]
    }
   ],
   "source": [
    "# Mass center\n",
    "cm_x = [(p1 + p2)/2 for (p1, p2) in zip(pos1_x, pos2_x)]\n",
    "cm_y = [(p1 + p2)/2 for (p1, p2) in zip(pos1_y, pos2_y)]\n",
    "\n",
    "plt.plot(cm_x, cm_y, 'g-')\n",
    "plt.show()\n",
    "\n",
    "print(f\"max(center_mass.y)={max(cm_y)}, min(center_mass.y)={min(cm_y)}\")"
   ]
  },
  {
   "cell_type": "code",
   "execution_count": 14,
   "metadata": {
    "hidden": true
   },
   "outputs": [
    {
     "name": "stdout",
     "output_type": "stream",
     "text": [
      "start_pos=(-300.0, 0.0) --> end_pos=(199.99999999999875, 0.0)\n",
      "distance: 499.99999999999875\n"
     ]
    }
   ],
   "source": [
    "print(f\"start_pos=({cm_x[0]}, {cm_y[0]}) --> end_pos=({cm_x[-1]}, {cm_y[-1]})\")\n",
    "print(f\"distance: {np.sqrt((cm_x[0] - cm_x[-1])**2 + (cm_y[0] - cm_y[-1])**2)}\")"
   ]
  },
  {
   "cell_type": "code",
   "execution_count": 15,
   "metadata": {
    "hidden": true
   },
   "outputs": [
    {
     "data": {
      "text/plain": [
       "[<matplotlib.lines.Line2D at 0x214b4cfa6e0>]"
      ]
     },
     "execution_count": 15,
     "metadata": {},
     "output_type": "execute_result"
    },
    {
     "data": {
      "image/png": "[encoded data removed]",
      "text/plain": [
       "<Figure size 432x288 with 1 Axes>"
      ]
     },
     "metadata": {
      "needs_background": "light"
     },
     "output_type": "display_data"
    }
   ],
   "source": [
    "# Radius\n",
    "r1 = [np.sqrt((px-cx)**2 + (py-cy)**2) for (px, py, cx, cy) in zip(pos1_x, pos1_y, cm_x, cm_y)]\n",
    "r2 = [np.sqrt((px-cx)**2 + (py-cy)**2) for (px, py, cx, cy) in zip(pos2_x, pos2_y, cm_x, cm_y)]\n",
    "plt.plot(t, r1, 'r-')"
   ]
  },
  {
   "cell_type": "markdown",
   "metadata": {
    "heading_collapsed": true
   },
   "source": [
    "### TEST 3"
   ]
  },
  {
   "cell_type": "code",
   "execution_count": 16,
   "metadata": {
    "hidden": true
   },
   "outputs": [],
   "source": [
    "sps=600\n",
    "sim = test3(sps=sps, method=lambda: Method3212())\n",
    "sim.simulate()"
   ]
  },
  {
   "cell_type": "code",
   "execution_count": 17,
   "metadata": {
    "hidden": true
   },
   "outputs": [],
   "source": [
    "ball = sim.balls[0]"
   ]
  },
  {
   "cell_type": "code",
   "execution_count": 18,
   "metadata": {
    "hidden": true
   },
   "outputs": [],
   "source": [
    "t = np.linspace(0, 10, 1000)\n",
    "t_c = np.linspace(0, 10, 10*sps)\n",
    "\n",
    "# actual\n",
    "x = [ball.position.val(t_v).x for t_v in t_c]\n",
    "y = [ball.position.val(t_v).y for t_v in t_c]\n",
    "\n",
    "# expected\n",
    "xc = np.linspace(-300, -300 + 50*10, 1000)\n",
    "yc = -100*np.cos(t)\n",
    "\n",
    "# coarse expected\n",
    "xc_c = np.linspace(-300, -300 + 50*10, 10*sps)\n",
    "yc_c = -100*np.cos(t_c)"
   ]
  },
  {
   "cell_type": "code",
   "execution_count": 19,
   "metadata": {
    "hidden": true
   },
   "outputs": [
    {
     "data": {
      "image/png": "[encoded data removed]",
      "text/plain": [
       "<Figure size 432x288 with 1 Axes>"
      ]
     },
     "metadata": {
      "needs_background": "light"
     },
     "output_type": "display_data"
    }
   ],
   "source": [
    "max_i = 1000\n",
    "plt.plot(t_c[:int(max_i/100*sps)], y[:int(max_i/100*sps)], 'r-', t[:max_i], yc[:max_i], 'b-')\n",
    "plt.show()"
   ]
  },
  {
   "cell_type": "code",
   "execution_count": 20,
   "metadata": {
    "hidden": true
   },
   "outputs": [
    {
     "data": {
      "image/png": "[encoded data removed]",
      "text/plain": [
       "<Figure size 432x288 with 1 Axes>"
      ]
     },
     "metadata": {
      "needs_background": "light"
     },
     "output_type": "display_data"
    }
   ],
   "source": [
    "max_i = 1000\n",
    "plt.plot(t_c[:int(max_i/100*sps)], [abs(a-e) for (a, e) in zip(x[:int(max_i/100*sps)], xc_c[:int(max_i/100*sps)],)], 'r-')\n",
    "plt.show()"
   ]
  },
  {
   "cell_type": "code",
   "execution_count": 21,
   "metadata": {
    "hidden": true
   },
   "outputs": [],
   "source": [
    "error = [abs(y_v - yc_v) for (y_v, yc_v) in zip(y, yc_c)]"
   ]
  },
  {
   "cell_type": "code",
   "execution_count": 22,
   "metadata": {
    "hidden": true
   },
   "outputs": [
    {
     "data": {
      "text/plain": [
       "[<matplotlib.lines.Line2D at 0x214b5bd3100>]"
      ]
     },
     "execution_count": 22,
     "metadata": {},
     "output_type": "execute_result"
    },
    {
     "data": {
      "image/png": "[encoded data removed]",
      "text/plain": [
       "<Figure size 432x288 with 1 Axes>"
      ]
     },
     "metadata": {
      "needs_background": "light"
     },
     "output_type": "display_data"
    }
   ],
   "source": [
    "plt.plot(t_c, error)"
   ]
  },
  {
   "cell_type": "markdown",
   "metadata": {
    "heading_collapsed": true
   },
   "source": [
    "### TEST 3: Convergence exponent"
   ]
  },
  {
   "cell_type": "code",
   "execution_count": 23,
   "metadata": {
    "code_folding": [
     0
    ],
    "hidden": true
   },
   "outputs": [
    {
     "name": "stdout",
     "output_type": "stream",
     "text": [
      "Time elapsed: 46.59375\n"
     ]
    },
    {
     "data": {
      "text/plain": [
       "46.59375"
      ]
     },
     "execution_count": 23,
     "metadata": {},
     "output_type": "execute_result"
    }
   ],
   "source": [
    "# convergence exponent (Euler)\n",
    "tic()\n",
    "\n",
    "res_e = []\n",
    "n_e = list(range(10, 400, 10))\n",
    "for i in n_e:\n",
    "    sim = test3(sps=i, method=lambda: Euler())\n",
    "    sim.simulate()\n",
    "    \n",
    "    t_c = [tv.time for tv in sim.balls[0].position.values]\n",
    "    yc_c = -100*np.cos(np.array(t_c))\n",
    "    y = [tv.val.y for tv in sim.balls[0].position.values]\n",
    "    error = [abs(y_v - yc_v) for (y_v, yc_v) in zip(y, yc_c)]\n",
    "    res_e.append(max(error))\n",
    "    \n",
    "toc()"
   ]
  },
  {
   "cell_type": "code",
   "execution_count": 43,
   "metadata": {
    "collapsed": true,
    "hidden": true
   },
   "outputs": [
    {
     "data": {
      "text/plain": [
       "[<matplotlib.lines.Line2D at 0x21c88b6d120>,\n",
       " <matplotlib.lines.Line2D at 0x21c88b6d240>]"
      ]
     },
     "execution_count": 43,
     "metadata": {},
     "output_type": "execute_result"
    },
    {
     "data": {
      "image/png": "[encoded data removed]",
      "text/plain": [
       "<Figure size 432x288 with 1 Axes>"
      ]
     },
     "metadata": {
      "needs_background": "light"
     },
     "output_type": "display_data"
    }
   ],
   "source": [
    "plt.loglog(n_e, res_e, 'r-', n_e, [480*k**(-1) for k in n_e], 'g--')"
   ]
  },
  {
   "cell_type": "code",
   "execution_count": 21,
   "metadata": {
    "code_folding": [
     0
    ],
    "hidden": true
   },
   "outputs": [
    {
     "name": "stdout",
     "output_type": "stream",
     "text": [
      "Time elapsed: 48.328125\n"
     ]
    },
    {
     "data": {
      "text/plain": [
       "48.328125"
      ]
     },
     "execution_count": 21,
     "metadata": {},
     "output_type": "execute_result"
    }
   ],
   "source": [
    "# convergence exponent (Method 3/2-1/2)\n",
    "tic()\n",
    "\n",
    "res_m = []\n",
    "n_m = list(range(10, 400, 10))\n",
    "for i in n_m:\n",
    "    sim = test3(sps=i, method=lambda: Method3212())\n",
    "    sim.simulate()\n",
    "    \n",
    "    t_c = [tv.time for tv in sim.balls[0].position.values]\n",
    "    yc_c = -100*np.cos(np.array(t_c))\n",
    "    y = [tv.val.y for tv in sim.balls[0].position.values]\n",
    "    error = [abs(y_v - yc_v) for (y_v, yc_v) in zip(y, yc_c)]\n",
    "    res_m.append(max(error))\n",
    "    \n",
    "toc()"
   ]
  },
  {
   "cell_type": "code",
   "execution_count": 22,
   "metadata": {
    "collapsed": true,
    "hidden": true
   },
   "outputs": [
    {
     "data": {
      "text/plain": [
       "[<matplotlib.lines.Line2D at 0x21c81bd19f0>,\n",
       " <matplotlib.lines.Line2D at 0x21c81c117e0>]"
      ]
     },
     "execution_count": 22,
     "metadata": {},
     "output_type": "execute_result"
    },
    {
     "data": {
      "image/png": "[encoded data removed]",
      "text/plain": [
       "<Figure size 432x288 with 1 Axes>"
      ]
     },
     "metadata": {
      "needs_background": "light"
     },
     "output_type": "display_data"
    }
   ],
   "source": [
    "plt.loglog(n_m, res_m, 'r-', n_m, [350*k**(-2) for k in n_m], 'g--')"
   ]
  },
  {
   "cell_type": "code",
   "execution_count": 25,
   "metadata": {
    "code_folding": [
     0
    ],
    "hidden": true
   },
   "outputs": [
    {
     "name": "stdout",
     "output_type": "stream",
     "text": [
      "Time elapsed: 49.484375\n"
     ]
    },
    {
     "data": {
      "text/plain": [
       "49.484375"
      ]
     },
     "execution_count": 25,
     "metadata": {},
     "output_type": "execute_result"
    }
   ],
   "source": [
    "# convergence exponent (Adams-Bashford)\n",
    "tic()\n",
    "\n",
    "res_ab = []\n",
    "n_ab = list(range(10, 400, 10))\n",
    "for i in n_ab:\n",
    "    sim = test3(sps=i, method=lambda: AdamsBashford5())\n",
    "    sim.simulate()\n",
    "    \n",
    "    t_c = [tv.time for tv in sim.balls[0].position.values]\n",
    "    yc_c = -100*np.cos(np.array(t_c))\n",
    "    y = [tv.val.y for tv in sim.balls[0].position.values]\n",
    "    error = [abs(y_v - yc_v) for (y_v, yc_v) in zip(y, yc_c)]\n",
    "    res_ab.append(max(error))\n",
    "    \n",
    "toc()"
   ]
  },
  {
   "cell_type": "code",
   "execution_count": 42,
   "metadata": {
    "collapsed": true,
    "hidden": true
   },
   "outputs": [
    {
     "data": {
      "text/plain": [
       "[<matplotlib.lines.Line2D at 0x21c889e35e0>,\n",
       " <matplotlib.lines.Line2D at 0x21c889e3700>]"
      ]
     },
     "execution_count": 42,
     "metadata": {},
     "output_type": "execute_result"
    },
    {
     "data": {
      "image/png": "[encoded data removed]",
      "text/plain": [
       "<Figure size 432x288 with 1 Axes>"
      ]
     },
     "metadata": {
      "needs_background": "light"
     },
     "output_type": "display_data"
    }
   ],
   "source": [
    "plt.loglog(n_ab, res_ab, 'r-', n_ab, [200*k**(-2) for k in n_ab], 'g--')"
   ]
  },
  {
   "cell_type": "code",
   "execution_count": 27,
   "metadata": {
    "code_folding": [
     0
    ],
    "hidden": true
   },
   "outputs": [
    {
     "name": "stdout",
     "output_type": "stream",
     "text": [
      "Time elapsed: 48.328125\n"
     ]
    },
    {
     "data": {
      "text/plain": [
       "48.328125"
      ]
     },
     "execution_count": 27,
     "metadata": {},
     "output_type": "execute_result"
    }
   ],
   "source": [
    "# convergence exponent (Adams-Moulton)\n",
    "tic()\n",
    "\n",
    "res_am = []\n",
    "n_am = list(range(10, 400, 10))\n",
    "for i in n_am:\n",
    "    sim = test3(sps=i, method=lambda: AdamsMoulton5())\n",
    "    sim.simulate()\n",
    "    \n",
    "    t_c = [tv.time for tv in sim.balls[0].position.values]\n",
    "    yc_c = -100*np.cos(np.array(t_c))\n",
    "    y = [tv.val.y for tv in sim.balls[0].position.values]\n",
    "    error = [abs(y_v - yc_v) for (y_v, yc_v) in zip(y, yc_c)]\n",
    "    res_am.append(max(error))\n",
    "    \n",
    "toc()"
   ]
  },
  {
   "cell_type": "code",
   "execution_count": 37,
   "metadata": {
    "collapsed": true,
    "hidden": true
   },
   "outputs": [
    {
     "data": {
      "text/plain": [
       "[<matplotlib.lines.Line2D at 0x21c81a5f790>,\n",
       " <matplotlib.lines.Line2D at 0x21c81a5e1a0>]"
      ]
     },
     "execution_count": 37,
     "metadata": {},
     "output_type": "execute_result"
    },
    {
     "data": {
      "image/png": "[encoded data removed]",
      "text/plain": [
       "<Figure size 432x288 with 1 Axes>"
      ]
     },
     "metadata": {
      "needs_background": "light"
     },
     "output_type": "display_data"
    }
   ],
   "source": [
    "plt.loglog(n_am, res_am, 'r-', n_am, [980*k**(-1) for k in n_am], 'g--')"
   ]
  },
  {
   "cell_type": "markdown",
   "metadata": {
    "heading_collapsed": true
   },
   "source": [
    "### Manual partial tests"
   ]
  },
  {
   "cell_type": "code",
   "execution_count": 79,
   "metadata": {
    "code_folding": [
     1
    ],
    "hidden": true,
    "init_cell": true
   },
   "outputs": [],
   "source": [
    "# Manual test\n",
    "def manual_test_1(steps=100, k=1, r=1, max_t=10, method=Euler):\n",
    "\n",
    "    values = [TimedVal(r, 0)]\n",
    "    dv = [TimedVal(0, 0)] # ???\n",
    "\n",
    "    def f(v, t):\n",
    "        return -k*v\n",
    "\n",
    "    step_func = method()\n",
    "    time = np.linspace(0, max_t, steps)\n",
    "    for i in range(1, len(time)):\n",
    "        t = time[i]\n",
    "        dv.append(TimedVal(time=t, val=f(values[-1].val, t)))\n",
    "        values.append(TimedVal(time=t, val=values[-1].val + step_func(dv)))\n",
    "\n",
    "    v = [val.val for val in values]\n",
    "    vc = r*np.exp(-k*time)\n",
    "    \n",
    "    return v, vc, time"
   ]
  },
  {
   "cell_type": "code",
   "execution_count": 80,
   "metadata": {
    "code_folding": [
     1
    ],
    "hidden": true,
    "init_cell": true
   },
   "outputs": [],
   "source": [
    "# Manual test with PrimaryData\n",
    "def primarydata_test_1(steps=100, k=1, r=1, max_t=10, method=Euler):\n",
    "    \n",
    "    values = PrimaryDataNumeric(float, step_func=method(), initial=r)\n",
    "    \n",
    "    def f(v, t):\n",
    "        return -k*v\n",
    "    \n",
    "    time = np.linspace(0, max_t, steps)\n",
    "    for i in range(1, len(time)):\n",
    "        values.add_derivative((time[i], f(values.current, time[i])))\n",
    "        values.collapse_last_val()\n",
    "        \n",
    "    v = [val.val for val in values.values]\n",
    "    vc = r*np.exp(-k*time)\n",
    "    \n",
    "    return v, vc, time"
   ]
  },
  {
   "cell_type": "code",
   "execution_count": 81,
   "metadata": {
    "code_folding": [
     1
    ],
    "hidden": true,
    "init_cell": true
   },
   "outputs": [],
   "source": [
    "# Manual test with Ball\n",
    "def ball_test_1(steps=100, k=1, r=1, max_t=10, method=Euler):\n",
    "    \n",
    "    ball = make_ball(Vector([r, 0]), Vector([0, 0]), step_func=method)\n",
    "    \n",
    "    def f(pos, t):\n",
    "        return -k*pos\n",
    "    \n",
    "    time = np.linspace(0, max_t, steps)\n",
    "    for i in range(1, len(time)):\n",
    "        ball.velocity.add_derivative((time[i], f(ball.position.current, time[i])))\n",
    "        ball.update(time[i])\n",
    "        \n",
    "    v = [tv.val.x for tv in ball.position.values]\n",
    "    vc = r*np.cos(np.sqrt(k)*time)\n",
    "    \n",
    "    return v, vc, time"
   ]
  },
  {
   "cell_type": "code",
   "execution_count": 82,
   "metadata": {
    "code_folding": [
     1
    ],
    "hidden": true,
    "init_cell": true
   },
   "outputs": [],
   "source": [
    "# Manual test with Sim\n",
    "def sim_test_1(steps=100, k=1, r=1, method=Method3212):\n",
    "    \n",
    "    sim = test4(r=r, k=k, sps=steps, method=method)\n",
    "    sim.simulate()\n",
    "    \n",
    "    v = [tv.val.y for tv in sim.balls[0].position.values]\n",
    "    time = np.array([tv.time for tv in sim.balls[0].position.values])\n",
    "    vc = r*np.cos(np.sqrt(k)*time)\n",
    "    \n",
    "    return v, vc, time"
   ]
  },
  {
   "cell_type": "code",
   "execution_count": 49,
   "metadata": {
    "code_folding": [
     0
    ],
    "hidden": true
   },
   "outputs": [
    {
     "name": "stdout",
     "output_type": "stream",
     "text": [
      "error = 0.0 (relative: 0.0)\n"
     ]
    }
   ],
   "source": [
    "# Time error (should be 0)\n",
    "sim = test3(sps=100, method=Euler)\n",
    "sim.simulate()\n",
    "err = abs(sim.time - sim.total_time)\n",
    "print(f\"error = {err} (relative: {err/sim.dt})\")"
   ]
  },
  {
   "cell_type": "code",
   "execution_count": 51,
   "metadata": {
    "code_folding": [],
    "hidden": true
   },
   "outputs": [
    {
     "name": "stdout",
     "output_type": "stream",
     "text": [
      "Euler: Method tests finished (13.1875s)\n",
      "Method3212: Method tests finished (9.59375s)\n",
      "AdamsBashford5: Method tests finished (10.625s)\n",
      "AdamsMoulton5: Method tests finished (10.890625s)\n"
     ]
    }
   ],
   "source": [
    "test = sim_test_1\n",
    "max_n = 200\n",
    "\n",
    "# Test methods with different step sizes\n",
    "methods = [\n",
    "           (\"Euler\", Euler), \n",
    "           (\"Method3212\", Method3212), \n",
    "           (\"AdamsBashford5\", AdamsBashford5), \n",
    "           (\"AdamsMoulton5\", AdamsMoulton5)\n",
    "          ]\n",
    "\n",
    "res = {}\n",
    "n = list(range(10, max_n, 10))\n",
    "details = {}\n",
    "\n",
    "for name, method in methods:\n",
    "    timer = ExecutionTimer(silent=True)\n",
    "    timer.tic()\n",
    "    \n",
    "    res[name] = []\n",
    "    details[name] = []\n",
    "    for i in n:\n",
    "        v, vc, t = test(steps=i, method=method)\n",
    "        error = [abs(v_v-vc_v) for (v_v, vc_v) in zip(v, vc)]\n",
    "        res[name].append(max(error))\n",
    "        details[name].append((i, v, vc, t, error, max(error)))\n",
    "        \n",
    "    time = timer.toc()\n",
    "    print(f\"{name}: Method tests finished ({time}s)\")"
   ]
  },
  {
   "cell_type": "code",
   "execution_count": 86,
   "metadata": {
    "code_folding": [
     0
    ],
    "collapsed": true,
    "hidden": true
   },
   "outputs": [
    {
     "data": {
      "text/plain": [
       "[<matplotlib.lines.Line2D at 0x2cb275f8160>,\n",
       " <matplotlib.lines.Line2D at 0x2cb275f8280>]"
      ]
     },
     "execution_count": 86,
     "metadata": {},
     "output_type": "execute_result"
    },
    {
     "data": {
      "image/png": "[encoded data removed]",
      "text/plain": [
       "<Figure size 432x288 with 1 Axes>"
      ]
     },
     "metadata": {
      "needs_background": "light"
     },
     "output_type": "display_data"
    }
   ],
   "source": [
    "# Plot data from tests\n",
    "data = details[\"Method3212\"][-1]\n",
    "plt.plot(data[3], data[1], 'r-', data[3], data[2], 'g--')"
   ]
  },
  {
   "cell_type": "code",
   "execution_count": 58,
   "metadata": {
    "collapsed": true,
    "hidden": true
   },
   "outputs": [
    {
     "data": {
      "text/plain": [
       "[<matplotlib.lines.Line2D at 0x21c83082b00>,\n",
       " <matplotlib.lines.Line2D at 0x21c83082f50>]"
      ]
     },
     "execution_count": 58,
     "metadata": {},
     "output_type": "execute_result"
    },
    {
     "data": {
      "image/png": "[encoded data removed]",
      "text/plain": [
       "<Figure size 432x288 with 1 Axes>"
      ]
     },
     "metadata": {
      "needs_background": "light"
     },
     "output_type": "display_data"
    }
   ],
   "source": [
    "plt.loglog(n, res[\"Euler\"], 'r-', n, [4.9*k**(-1) for k in n], 'g--')"
   ]
  },
  {
   "cell_type": "code",
   "execution_count": 63,
   "metadata": {
    "collapsed": true,
    "hidden": true
   },
   "outputs": [
    {
     "data": {
      "text/plain": [
       "[<matplotlib.lines.Line2D at 0x21c8b1eb730>,\n",
       " <matplotlib.lines.Line2D at 0x21c8b1eb850>]"
      ]
     },
     "execution_count": 63,
     "metadata": {},
     "output_type": "execute_result"
    },
    {
     "data": {
      "image/png": "[encoded data removed]",
      "text/plain": [
       "<Figure size 432x288 with 1 Axes>"
      ]
     },
     "metadata": {
      "needs_background": "light"
     },
     "output_type": "display_data"
    }
   ],
   "source": [
    "plt.loglog(n, res[\"Method3212\"], 'r-', n, [3.5*k**(-2) for k in n], 'g--')"
   ]
  },
  {
   "cell_type": "code",
   "execution_count": 67,
   "metadata": {
    "collapsed": true,
    "hidden": true
   },
   "outputs": [
    {
     "data": {
      "text/plain": [
       "[<matplotlib.lines.Line2D at 0x21c8b8205e0>,\n",
       " <matplotlib.lines.Line2D at 0x21c8b820700>]"
      ]
     },
     "execution_count": 67,
     "metadata": {},
     "output_type": "execute_result"
    },
    {
     "data": {
      "image/png": "[encoded data removed]",
      "text/plain": [
       "<Figure size 432x288 with 1 Axes>"
      ]
     },
     "metadata": {
      "needs_background": "light"
     },
     "output_type": "display_data"
    }
   ],
   "source": [
    "plt.loglog(n, res[\"AdamsBashford5\"], 'r-', n, [2*k**(-2) for k in n], 'g--')"
   ]
  },
  {
   "cell_type": "code",
   "execution_count": 73,
   "metadata": {
    "collapsed": true,
    "hidden": true
   },
   "outputs": [
    {
     "data": {
      "text/plain": [
       "[<matplotlib.lines.Line2D at 0x21c8cdfabf0>,\n",
       " <matplotlib.lines.Line2D at 0x21c8cdfad10>]"
      ]
     },
     "execution_count": 73,
     "metadata": {},
     "output_type": "execute_result"
    },
    {
     "data": {
      "image/png": "[encoded data removed]",
      "text/plain": [
       "<Figure size 432x288 with 1 Axes>"
      ]
     },
     "metadata": {
      "needs_background": "light"
     },
     "output_type": "display_data"
    }
   ],
   "source": [
    "plt.loglog(n, res[\"AdamsMoulton5\"], 'r-', n, [9.9*k**(-1) for k in n], 'g--')"
   ]
  },
  {
   "cell_type": "markdown",
   "metadata": {
    "heading_collapsed": true
   },
   "source": [
    "### TEST 4 (correctness)"
   ]
  },
  {
   "cell_type": "code",
   "execution_count": 74,
   "metadata": {
    "hidden": true
   },
   "outputs": [],
   "source": [
    "k = 1\n",
    "r = 100\n",
    "sim = test4(r=r, k=k, sps=500, method=Method3212)\n",
    "sim.simulate()\n",
    "\n",
    "v = [tv.val.y for tv in sim.balls[0].position.values]\n",
    "time = np.array([tv.time for tv in sim.balls[0].position.values])\n",
    "vc = r*np.cos(np.sqrt(k)*time)"
   ]
  },
  {
   "cell_type": "code",
   "execution_count": 75,
   "metadata": {
    "hidden": true
   },
   "outputs": [
    {
     "data": {
      "text/plain": [
       "[<matplotlib.lines.Line2D at 0x21c8e3114b0>,\n",
       " <matplotlib.lines.Line2D at 0x21c8e3115d0>]"
      ]
     },
     "execution_count": 75,
     "metadata": {},
     "output_type": "execute_result"
    },
    {
     "data": {
      "image/png": "[encoded data removed]",
      "text/plain": [
       "<Figure size 432x288 with 1 Axes>"
      ]
     },
     "metadata": {
      "needs_background": "light"
     },
     "output_type": "display_data"
    }
   ],
   "source": [
    "max_v = 5000\n",
    "plt.plot(time[:max_v], v[:max_v], 'r-', time[:max_v], vc[:max_v], 'g--')"
   ]
  },
  {
   "cell_type": "code",
   "execution_count": null,
   "metadata": {
    "hidden": true
   },
   "outputs": [],
   "source": []
  },
  {
   "cell_type": "code",
   "execution_count": 84,
   "metadata": {
    "code_folding": [
     0
    ],
    "hidden": true
   },
   "outputs": [
    {
     "data": {
      "text/plain": [
       "0.999999999999999"
      ]
     },
     "execution_count": 84,
     "metadata": {},
     "output_type": "execute_result"
    }
   ],
   "source": [
    "# Does field give correct values? (should be 1)\n",
    "field = sim.fields[\"sinusoidal\"]\n",
    "field.value(Vector([0, 1]))"
   ]
  },
  {
   "cell_type": "markdown",
   "metadata": {},
   "source": [
    "### Field tests"
   ]
  },
  {
   "cell_type": "code",
   "execution_count": 185,
   "metadata": {},
   "outputs": [],
   "source": [
    "n = 20\n",
    "samples = 50\n",
    "size = 10\n",
    "\n",
    "field_exact = lambda x, y: np.sin(x + 0.1*y**2)/(x**2+y**2+1)\n",
    "field = make_field(\"test\", size=(size, size), res=(n, n), const=True, func=lambda y, x: field_exact(x, y))\n",
    "\n",
    "x = (np.random.random(samples)-0.5)*2*size\n",
    "y = (np.random.random(samples)-0.5)*2*size\n",
    "points = [Vector([x_v, y_v]) for x_v, y_v in zip(x, y)]\n",
    "\n",
    "vals = [field.value(point) for point in points]\n",
    "vals_exact = [field_exact(p.x, p.y) for p in points]\n",
    "error = [abs(v - ve) for v, ve in zip(vals, vals_exact)]\n",
    "relative_error = [abs(v - ve)/ve for v, ve in zip(vals, vals_exact)]"
   ]
  },
  {
   "cell_type": "code",
   "execution_count": 186,
   "metadata": {},
   "outputs": [
    {
     "data": {
      "text/plain": [
       "(0.04873867930945331, 19.90786018975908)"
      ]
     },
     "execution_count": 186,
     "metadata": {},
     "output_type": "execute_result"
    }
   ],
   "source": [
    "max(error), max(relative_error)"
   ]
  },
  {
   "cell_type": "code",
   "execution_count": 189,
   "metadata": {},
   "outputs": [
    {
     "data": {
      "image/png": "[encoded data removed]",
      "text/plain": [
       "<Figure size 432x288 with 1 Axes>"
      ]
     },
     "metadata": {
      "needs_background": "light"
     },
     "output_type": "display_data"
    },
    {
     "data": {
      "image/png": "[encoded data removed]",
      "text/plain": [
       "<Figure size 432x288 with 1 Axes>"
      ]
     },
     "metadata": {
      "needs_background": "light"
     },
     "output_type": "display_data"
    }
   ],
   "source": [
    "x = -0.3\n",
    "max_y = 5\n",
    "min_y = -5\n",
    "p = 1000\n",
    "\n",
    "y = np.linspace(min_y, max_y, p)\n",
    "z = [field.value(Vector([x, y_v])) for y_v in y]\n",
    "z_exact = field_exact(x, y)\n",
    "error = [abs(z_v - ze_v) for z_v, ze_v in zip(z, z_exact)]\n",
    "\n",
    "plt.plot(y, z, 'r-', y, z_exact, 'g--')\n",
    "plt.show()\n",
    "plt.plot(y, error)\n",
    "plt.show()"
   ]
  },
  {
   "cell_type": "code",
   "execution_count": 159,
   "metadata": {
    "code_folding": [
     1,
     11
    ]
   },
   "outputs": [],
   "source": [
    "@dataclass\n",
    "class FieldTestResult:\n",
    "    max_err: float\n",
    "    points: list[Vector]\n",
    "    vals: list[float]\n",
    "    vals_exact: list[float]\n",
    "    error: list[float]\n",
    "    relative_error: list[float]\n",
    "    n: int\n",
    "    size: float\n",
    "\n",
    "def test_field(func, n=20, size=10, samples=100):\n",
    "\n",
    "    field = make_field(\"test\", size=(size, size), res=(n, n), const=True, func= lambda y, x: func(x, y))\n",
    "\n",
    "    x = (np.random.random(samples)-0.5)*2*size\n",
    "    y = (np.random.random(samples)-0.5)*2*size\n",
    "    points = [Vector([x_v, y_v]) for x_v, y_v in zip(x, y)]\n",
    "\n",
    "    vals = [field.value(point) for point in points]\n",
    "    vals_exact = [func(p.x, p.y) for p in points]\n",
    "    error = [abs(v - ve) for v, ve in zip(vals, vals_exact)]\n",
    "    relative_error = [abs(v - ve)/ve for v, ve in zip(vals, vals_exact)]\n",
    "    \n",
    "    return FieldTestResult(max_err=max(error), points=points, vals=vals, vals_exact=vals_exact, \n",
    "                           error=error, relative_error=relative_error, n=n, size=size)"
   ]
  },
  {
   "cell_type": "code",
   "execution_count": 192,
   "metadata": {},
   "outputs": [
    {
     "name": "stdout",
     "output_type": "stream",
     "text": [
      "100 done...\n",
      "200 done...\n",
      "300 done...\n",
      "Time elapsed: 18.828125\n"
     ]
    }
   ],
   "source": [
    "# Convergence exponent\n",
    "max_n = 400\n",
    "#func = lambda y, x: np.exp(-(x-1)**2-(y-1)**2)\n",
    "#func = lambda x, y: np.exp(-(x-2)**2-(y-1)**2)\n",
    "func = lambda x, y: np.sin(x + 0.01*y**2)/(x**2+y**2+1)\n",
    "max_value = 0.4374\n",
    "\n",
    "tic()\n",
    "n = list(range(5, max_n, 5))\n",
    "res = []\n",
    "details = []\n",
    "_next_output = 100\n",
    "_output_step = _next_output\n",
    "for i in n:\n",
    "    details.append(test_field(func, i, samples=2000))\n",
    "    res.append(details[-1].max_err/max_value)\n",
    "    if i >= _next_output:\n",
    "        print(f\"{i} done...\")\n",
    "        _next_output += _output_step\n",
    "        \n",
    "time = toc()"
   ]
  },
  {
   "cell_type": "code",
   "execution_count": 196,
   "metadata": {},
   "outputs": [
    {
     "data": {
      "text/plain": [
       "[<matplotlib.lines.Line2D at 0x21ca70a72e0>,\n",
       " <matplotlib.lines.Line2D at 0x21ca70a7400>]"
      ]
     },
     "execution_count": 196,
     "metadata": {},
     "output_type": "execute_result"
    },
    {
     "data": {
      "image/png": "[encoded data removed]",
      "text/plain": [
       "<Figure size 432x288 with 1 Axes>"
      ]
     },
     "metadata": {
      "needs_background": "light"
     },
     "output_type": "display_data"
    }
   ],
   "source": [
    "plt.loglog(n, res, 'r-', n, [400*k**(-3) for k in n], 'g--')#, [40], [0.0001], 'bo')"
   ]
  },
  {
   "cell_type": "code",
   "execution_count": 195,
   "metadata": {},
   "outputs": [
    {
     "data": {
      "text/plain": [
       "[<matplotlib.lines.Line2D at 0x21ca6ee1c00>,\n",
       " <matplotlib.lines.Line2D at 0x21ca6ee1c60>]"
      ]
     },
     "execution_count": 195,
     "metadata": {},
     "output_type": "execute_result"
    },
    {
     "data": {
      "image/png": "[encoded data removed]",
      "text/plain": [
       "<Figure size 432x288 with 1 Axes>"
      ]
     },
     "metadata": {
      "needs_background": "light"
     },
     "output_type": "display_data"
    }
   ],
   "source": [
    "avg_err = [sum(d.error)/len(d.error) for d in details]\n",
    "plt.loglog(n, avg_err, 'r-', n, [400*k**(-3) for k in n], 'g--')"
   ]
  },
  {
   "cell_type": "markdown",
   "metadata": {},
   "source": [
    "### Other stuff"
   ]
  },
  {
   "cell_type": "code",
   "execution_count": 81,
   "metadata": {},
   "outputs": [],
   "source": [
    "SimulationDisplay(test4(fres=20), fps=50, ball_radius=8).display_sim()"
   ]
  },
  {
   "cell_type": "code",
   "execution_count": 3,
   "metadata": {
    "code_folding": [
     0
    ]
   },
   "outputs": [],
   "source": [
    "class FakeAdamsMoulton(NumStepFunc):\n",
    "    \n",
    "    def __init__(self, solution_func):\n",
    "        super(FakeAdamsMoulton, self).__init__(req_steps=5)\n",
    "        self.f = solution_func\n",
    "        \n",
    "    def adams_moulton_5step(self, derivatives: List[TimedVal[N]], time: float | None = None) -> N:\n",
    "\n",
    "        if time is None:\n",
    "            time = derivatives[-1].time\n",
    "\n",
    "        last = len(derivatives) - 2\n",
    "        for i in range(len(derivatives) - 1):\n",
    "            if derivatives[-i - 2].time < time <= derivatives[-i - 1].time:\n",
    "                last = i\n",
    "                break\n",
    "\n",
    "        if len(derivatives) - last < self.required_steps + 1:\n",
    "            return self.f(time)#*(derivatives[-last-1].time - derivatives[-last-2].time)\n",
    "\n",
    "        p4 = derivatives[-last-1]\n",
    "        p3 = derivatives[-last-2]\n",
    "        p2 = derivatives[-last-3]\n",
    "        p1 = derivatives[-last-4]\n",
    "        p0 = derivatives[-last-5]\n",
    "        dt = (p4.time - p3.time)\n",
    "\n",
    "        return dt * ((251 * p4.val + 646 * p3.val - 264 * p2.val + 106 * p1.val - 19 * p0.val) * (1/720))\n",
    "\n",
    "    def __call__(self, derivatives: List[TimedVal[N]], time: float | None = None) -> N:\n",
    "        return self.adams_moulton_5step(derivatives, time)"
   ]
  },
  {
   "cell_type": "code",
   "execution_count": 4,
   "metadata": {
    "code_folding": [
     0
    ]
   },
   "outputs": [],
   "source": [
    "def test3_1(v=50, r=100, k=1, sps=100):\n",
    "\n",
    "    position=PrimaryDataNumeric(Vector,\n",
    "                                initial=r*Vector([0, -1]) + Vector([-300, 0]),\n",
    "                                initial_derivative=v*Vector([1, 0]),\n",
    "                                zero=lambda: Vector(2),\n",
    "                                step_func=AdamsMoulton5())\n",
    "    velocity=PrimaryDataNumeric(Vector,\n",
    "                                initial=v*Vector([1, 0]),\n",
    "                                zero=lambda: Vector(2),\n",
    "                                step_func=AdamsMoulton5())\n",
    "    \n",
    "    for i in range(1, 6):\n",
    "        t = i*(1/sps)\n",
    "        position.derivatives.append(TimedVal(time=t, val=r*np.sin(t)*Vector([0, 1])))\n",
    "        position.values.append(TimedVal(time=t, val=-r*np.cos(t)*Vector([0, 1]) + Vector([-300, 0])))\n",
    "        velocity.derivatives.append(TimedVal(time=t, val=r*np.cos(t)*Vector([0, 1])))\n",
    "        velocity.values.append(TimedVal(time=t, val=r*np.sin(t)*Vector([0, 1]) + v*Vector([1, 0])))\n",
    "    position.f = position._make_func()\n",
    "    velocity.f = velocity._make_func()\n",
    "\n",
    "    sim = Simulation(\n",
    "        start_balls=[\n",
    "            Ball(position=position, velocity=velocity)\n",
    "        ],\n",
    "        fields={},\n",
    "        interactions=[Interaction(\"sinusoidal\", (\"Ball\", \"border field\"),\n",
    "                                  formula=lambda target, _:\n",
    "                                  k * target[0].position.current.y * Vector([0, -1]),\n",
    "                                  attribute=\"velocity\"\n",
    "                                  )],\n",
    "        start_time=t, total_time=10, steps_per_second=sps, field_size=(1000, 600))\n",
    "    \n",
    "    return sim"
   ]
  },
  {
   "cell_type": "code",
   "execution_count": null,
   "metadata": {},
   "outputs": [],
   "source": []
  }
 ],
 "metadata": {
  "kernelspec": {
   "display_name": "Python 3 (ipykernel)",
   "language": "python",
   "name": "python3"
  },
  "language_info": {
   "codemirror_mode": {
    "name": "ipython",
    "version": 3
   },
   "file_extension": ".py",
   "mimetype": "text/x-python",
   "name": "python",
   "nbconvert_exporter": "python",
   "pygments_lexer": "ipython3",
   "version": "3.10.4"
  }
 },
 "nbformat": 4,
 "nbformat_minor": 1
}